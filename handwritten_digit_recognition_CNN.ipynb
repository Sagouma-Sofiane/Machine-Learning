{
 "cells": [
  {
   "cell_type": "markdown",
   "id": "986625f5",
   "metadata": {
    "papermill": {
     "duration": 0.013548,
     "end_time": "2022-08-01T10:08:05.321190",
     "exception": false,
     "start_time": "2022-08-01T10:08:05.307642",
     "status": "completed"
    },
    "tags": []
   },
   "source": [
    "<p style=\"color:green;text-align:center;font-weight:bold;border:3px dotted green;font-size:22px\">✨ Handwritten Digit Recognition with CNN✨<span style='font-size:26px; background-color:blue '></span></p>\n",
    "<center><img src=\"https://miro.medium.com/max/1400/1*R8ZdNRRJlBs1tPkMSTwPHw.jpeg\">"
   ]
  },
  {
   "cell_type": "markdown",
   "id": "154b1a22",
   "metadata": {
    "papermill": {
     "duration": 0.011076,
     "end_time": "2022-08-01T10:08:05.343925",
     "exception": false,
     "start_time": "2022-08-01T10:08:05.332849",
     "status": "completed"
    },
    "tags": []
   },
   "source": [
    "<h2 style=\"padding: 8px;color:green;border-bottom: 3px solid green\"><b>1 | Introduction 🎯</b></h2>\n",
    "<h3 style=\"color:red\"><B>✅ Competition Description</b></h3>\n",
    "\n",
    "* In this competition, our goal is to correctly identify digits from a dataset of tens of thousands of handwritten images. \n",
    "\n",
    "<h3 style=\"color:red\"><b>✅ Data Description</b></h3>\n",
    "\n",
    "* The data files train.csv and test.csv contain gray-scale images of hand-drawn digits, from zero through nine.\n",
    "\n",
    "* Each image is 28 pixels in height and 28 pixels in width, for a total of 784 pixels in total. Each pixel has a single pixel-value associated with it, indicating the lightness or darkness of that pixel, with higher numbers meaning darker. This pixel-value is an integer between 0 and 255, inclusive.\n",
    "\n",
    "* The training data set, (train.csv), has 785 columns. The first column, called \"label\", is the digit that was drawn by the user. The rest of the columns contain the pixel-values of the associated image.\n",
    "\n",
    "* Each pixel column in the training set has a name like pixelx, where x is an integer between 0 and 783, inclusive. To locate this pixel on the image, suppose that we have decomposed x as x = i * 28 + j, where i and j are integers between 0 and 27, inclusive. Then pixelx is located on row i and column j of a 28 x 28 matrix, (indexing by zero).\n",
    "\n",
    "<h3 style=\"color:red\"><b>✅ Model choice</b></h3>\n",
    "\n",
    "In this kernel, I have created a model based on Deep Learning : <span style=\"color:green\"><b>Convolutional Neural Network (CNN)</b></span> to recognize different handwritten digits and classify them. The dataset used here is actually from Digit Recognition Competition. Let's get started.\n",
    "\n",
    "<center><img src=\"https://production-media.paperswithcode.com/method_collections/cnn.jpeg\" style='border-radius:30px'>"
   ]
  },
  {
   "cell_type": "markdown",
   "id": "aa2a3e5c",
   "metadata": {
    "papermill": {
     "duration": 0.01109,
     "end_time": "2022-08-01T10:08:05.366975",
     "exception": false,
     "start_time": "2022-08-01T10:08:05.355885",
     "status": "completed"
    },
    "tags": []
   },
   "source": [
    "<h2 style=\"padding: 8px;color:green;border-bottom: 3px solid green\"><b>2 | Import Necessary Librairies 📚</b></h2>"
   ]
  },
  {
   "cell_type": "code",
   "execution_count": 1,
   "id": "916c1683",
   "metadata": {
    "_cell_guid": "b1076dfc-b9ad-4769-8c92-a6c4dae69d19",
    "_uuid": "8f2839f25d086af736a60e9eeb907d3b93b6e0e5",
    "execution": {
     "iopub.execute_input": "2022-08-01T10:08:05.392339Z",
     "iopub.status.busy": "2022-08-01T10:08:05.391729Z",
     "iopub.status.idle": "2022-08-01T10:08:16.602432Z",
     "shell.execute_reply": "2022-08-01T10:08:16.601458Z"
    },
    "papermill": {
     "duration": 11.227157,
     "end_time": "2022-08-01T10:08:16.605497",
     "exception": false,
     "start_time": "2022-08-01T10:08:05.378340",
     "status": "completed"
    },
    "tags": []
   },
   "outputs": [
    {
     "name": "stdout",
     "output_type": "stream",
     "text": [
      "/kaggle/input/digit-recognizer/sample_submission.csv\n",
      "/kaggle/input/digit-recognizer/train.csv\n",
      "/kaggle/input/digit-recognizer/test.csv\n"
     ]
    }
   ],
   "source": [
    "import numpy as np # linear algebra\n",
    "import pandas as pd # data processing, CSV file I/O (e.g. pd.read_csv)\n",
    "import matplotlib.pyplot as plt\n",
    "import seaborn as sns\n",
    "import colorama\n",
    "from colorama import Fore\n",
    "from keras.utils.np_utils import to_categorical\n",
    "from keras.models import Sequential\n",
    "from keras.layers import Dense, Conv2D, Flatten\n",
    "import tensorflow as tf\n",
    "from tensorflow.keras import datasets, layers, models\n",
    "\n",
    "import os\n",
    "for dirname, _, filenames in os.walk('/kaggle/input'):\n",
    "    for filename in filenames:\n",
    "        print(os.path.join(dirname, filename))\n",
    "\n"
   ]
  },
  {
   "cell_type": "markdown",
   "id": "51ac7adf",
   "metadata": {
    "papermill": {
     "duration": 0.010694,
     "end_time": "2022-08-01T10:08:16.627500",
     "exception": false,
     "start_time": "2022-08-01T10:08:16.616806",
     "status": "completed"
    },
    "tags": []
   },
   "source": [
    "<h2 style=\"padding: 8px;color:green;border-bottom: 3px solid green\"><b>3 | Data Loading and Overview 📅</b></h2>"
   ]
  },
  {
   "cell_type": "code",
   "execution_count": 2,
   "id": "5eb25309",
   "metadata": {
    "execution": {
     "iopub.execute_input": "2022-08-01T10:08:16.652129Z",
     "iopub.status.busy": "2022-08-01T10:08:16.651128Z",
     "iopub.status.idle": "2022-08-01T10:08:23.038365Z",
     "shell.execute_reply": "2022-08-01T10:08:23.037269Z"
    },
    "papermill": {
     "duration": 6.402546,
     "end_time": "2022-08-01T10:08:23.041004",
     "exception": false,
     "start_time": "2022-08-01T10:08:16.638458",
     "status": "completed"
    },
    "tags": []
   },
   "outputs": [],
   "source": [
    "train_df=pd.read_csv(\"../input/digit-recognizer/train.csv\")\n",
    "test_df=pd.read_csv(\"../input/digit-recognizer/test.csv\")"
   ]
  },
  {
   "cell_type": "code",
   "execution_count": 3,
   "id": "8ec77682",
   "metadata": {
    "execution": {
     "iopub.execute_input": "2022-08-01T10:08:23.064883Z",
     "iopub.status.busy": "2022-08-01T10:08:23.064432Z",
     "iopub.status.idle": "2022-08-01T10:08:23.093789Z",
     "shell.execute_reply": "2022-08-01T10:08:23.092630Z"
    },
    "papermill": {
     "duration": 0.044251,
     "end_time": "2022-08-01T10:08:23.096432",
     "exception": false,
     "start_time": "2022-08-01T10:08:23.052181",
     "status": "completed"
    },
    "tags": []
   },
   "outputs": [
    {
     "data": {
      "text/html": [
       "<div>\n",
       "<style scoped>\n",
       "    .dataframe tbody tr th:only-of-type {\n",
       "        vertical-align: middle;\n",
       "    }\n",
       "\n",
       "    .dataframe tbody tr th {\n",
       "        vertical-align: top;\n",
       "    }\n",
       "\n",
       "    .dataframe thead th {\n",
       "        text-align: right;\n",
       "    }\n",
       "</style>\n",
       "<table border=\"1\" class=\"dataframe\">\n",
       "  <thead>\n",
       "    <tr style=\"text-align: right;\">\n",
       "      <th></th>\n",
       "      <th>label</th>\n",
       "      <th>pixel0</th>\n",
       "      <th>pixel1</th>\n",
       "      <th>pixel2</th>\n",
       "      <th>pixel3</th>\n",
       "      <th>pixel4</th>\n",
       "      <th>pixel5</th>\n",
       "      <th>pixel6</th>\n",
       "      <th>pixel7</th>\n",
       "      <th>pixel8</th>\n",
       "      <th>...</th>\n",
       "      <th>pixel774</th>\n",
       "      <th>pixel775</th>\n",
       "      <th>pixel776</th>\n",
       "      <th>pixel777</th>\n",
       "      <th>pixel778</th>\n",
       "      <th>pixel779</th>\n",
       "      <th>pixel780</th>\n",
       "      <th>pixel781</th>\n",
       "      <th>pixel782</th>\n",
       "      <th>pixel783</th>\n",
       "    </tr>\n",
       "  </thead>\n",
       "  <tbody>\n",
       "    <tr>\n",
       "      <th>0</th>\n",
       "      <td>1</td>\n",
       "      <td>0</td>\n",
       "      <td>0</td>\n",
       "      <td>0</td>\n",
       "      <td>0</td>\n",
       "      <td>0</td>\n",
       "      <td>0</td>\n",
       "      <td>0</td>\n",
       "      <td>0</td>\n",
       "      <td>0</td>\n",
       "      <td>...</td>\n",
       "      <td>0</td>\n",
       "      <td>0</td>\n",
       "      <td>0</td>\n",
       "      <td>0</td>\n",
       "      <td>0</td>\n",
       "      <td>0</td>\n",
       "      <td>0</td>\n",
       "      <td>0</td>\n",
       "      <td>0</td>\n",
       "      <td>0</td>\n",
       "    </tr>\n",
       "    <tr>\n",
       "      <th>1</th>\n",
       "      <td>0</td>\n",
       "      <td>0</td>\n",
       "      <td>0</td>\n",
       "      <td>0</td>\n",
       "      <td>0</td>\n",
       "      <td>0</td>\n",
       "      <td>0</td>\n",
       "      <td>0</td>\n",
       "      <td>0</td>\n",
       "      <td>0</td>\n",
       "      <td>...</td>\n",
       "      <td>0</td>\n",
       "      <td>0</td>\n",
       "      <td>0</td>\n",
       "      <td>0</td>\n",
       "      <td>0</td>\n",
       "      <td>0</td>\n",
       "      <td>0</td>\n",
       "      <td>0</td>\n",
       "      <td>0</td>\n",
       "      <td>0</td>\n",
       "    </tr>\n",
       "    <tr>\n",
       "      <th>2</th>\n",
       "      <td>1</td>\n",
       "      <td>0</td>\n",
       "      <td>0</td>\n",
       "      <td>0</td>\n",
       "      <td>0</td>\n",
       "      <td>0</td>\n",
       "      <td>0</td>\n",
       "      <td>0</td>\n",
       "      <td>0</td>\n",
       "      <td>0</td>\n",
       "      <td>...</td>\n",
       "      <td>0</td>\n",
       "      <td>0</td>\n",
       "      <td>0</td>\n",
       "      <td>0</td>\n",
       "      <td>0</td>\n",
       "      <td>0</td>\n",
       "      <td>0</td>\n",
       "      <td>0</td>\n",
       "      <td>0</td>\n",
       "      <td>0</td>\n",
       "    </tr>\n",
       "    <tr>\n",
       "      <th>3</th>\n",
       "      <td>4</td>\n",
       "      <td>0</td>\n",
       "      <td>0</td>\n",
       "      <td>0</td>\n",
       "      <td>0</td>\n",
       "      <td>0</td>\n",
       "      <td>0</td>\n",
       "      <td>0</td>\n",
       "      <td>0</td>\n",
       "      <td>0</td>\n",
       "      <td>...</td>\n",
       "      <td>0</td>\n",
       "      <td>0</td>\n",
       "      <td>0</td>\n",
       "      <td>0</td>\n",
       "      <td>0</td>\n",
       "      <td>0</td>\n",
       "      <td>0</td>\n",
       "      <td>0</td>\n",
       "      <td>0</td>\n",
       "      <td>0</td>\n",
       "    </tr>\n",
       "    <tr>\n",
       "      <th>4</th>\n",
       "      <td>0</td>\n",
       "      <td>0</td>\n",
       "      <td>0</td>\n",
       "      <td>0</td>\n",
       "      <td>0</td>\n",
       "      <td>0</td>\n",
       "      <td>0</td>\n",
       "      <td>0</td>\n",
       "      <td>0</td>\n",
       "      <td>0</td>\n",
       "      <td>...</td>\n",
       "      <td>0</td>\n",
       "      <td>0</td>\n",
       "      <td>0</td>\n",
       "      <td>0</td>\n",
       "      <td>0</td>\n",
       "      <td>0</td>\n",
       "      <td>0</td>\n",
       "      <td>0</td>\n",
       "      <td>0</td>\n",
       "      <td>0</td>\n",
       "    </tr>\n",
       "  </tbody>\n",
       "</table>\n",
       "<p>5 rows × 785 columns</p>\n",
       "</div>"
      ],
      "text/plain": [
       "   label  pixel0  pixel1  pixel2  pixel3  pixel4  pixel5  pixel6  pixel7  \\\n",
       "0      1       0       0       0       0       0       0       0       0   \n",
       "1      0       0       0       0       0       0       0       0       0   \n",
       "2      1       0       0       0       0       0       0       0       0   \n",
       "3      4       0       0       0       0       0       0       0       0   \n",
       "4      0       0       0       0       0       0       0       0       0   \n",
       "\n",
       "   pixel8  ...  pixel774  pixel775  pixel776  pixel777  pixel778  pixel779  \\\n",
       "0       0  ...         0         0         0         0         0         0   \n",
       "1       0  ...         0         0         0         0         0         0   \n",
       "2       0  ...         0         0         0         0         0         0   \n",
       "3       0  ...         0         0         0         0         0         0   \n",
       "4       0  ...         0         0         0         0         0         0   \n",
       "\n",
       "   pixel780  pixel781  pixel782  pixel783  \n",
       "0         0         0         0         0  \n",
       "1         0         0         0         0  \n",
       "2         0         0         0         0  \n",
       "3         0         0         0         0  \n",
       "4         0         0         0         0  \n",
       "\n",
       "[5 rows x 785 columns]"
      ]
     },
     "execution_count": 3,
     "metadata": {},
     "output_type": "execute_result"
    }
   ],
   "source": [
    "train_df.head()"
   ]
  },
  {
   "cell_type": "code",
   "execution_count": 4,
   "id": "ad0fce56",
   "metadata": {
    "execution": {
     "iopub.execute_input": "2022-08-01T10:08:23.122041Z",
     "iopub.status.busy": "2022-08-01T10:08:23.120969Z",
     "iopub.status.idle": "2022-08-01T10:08:23.127962Z",
     "shell.execute_reply": "2022-08-01T10:08:23.127165Z"
    },
    "papermill": {
     "duration": 0.022289,
     "end_time": "2022-08-01T10:08:23.130492",
     "exception": false,
     "start_time": "2022-08-01T10:08:23.108203",
     "status": "completed"
    },
    "tags": []
   },
   "outputs": [
    {
     "name": "stdout",
     "output_type": "stream",
     "text": [
      "\u001b[34mThe train set has \u001b[32m42000 \u001b[34mrows and \u001b[32m785 \u001b[34mcolumns\n",
      "\u001b[34mThe test set has \u001b[32m28000 \u001b[34mrows and \u001b[32m784 \u001b[34mcolumns\n"
     ]
    }
   ],
   "source": [
    "print(Fore.BLUE +f\"The train set has\",Fore.GREEN+f\"{train_df.shape[0]}\",Fore.BLUE +\"rows and\",Fore.GREEN+f\"{train_df.shape[1]}\",Fore.BLUE +\"columns\")\n",
    "print(Fore.BLUE +f\"The test set has\",Fore.GREEN+f\"{test_df.shape[0]}\",Fore.BLUE +\"rows and\",Fore.GREEN+f\"{test_df.shape[1]}\",Fore.BLUE +\"columns\")"
   ]
  },
  {
   "cell_type": "code",
   "execution_count": 5,
   "id": "f60a6556",
   "metadata": {
    "execution": {
     "iopub.execute_input": "2022-08-01T10:08:23.155139Z",
     "iopub.status.busy": "2022-08-01T10:08:23.154720Z",
     "iopub.status.idle": "2022-08-01T10:08:23.238763Z",
     "shell.execute_reply": "2022-08-01T10:08:23.237585Z"
    },
    "papermill": {
     "duration": 0.099538,
     "end_time": "2022-08-01T10:08:23.241441",
     "exception": false,
     "start_time": "2022-08-01T10:08:23.141903",
     "status": "completed"
    },
    "tags": []
   },
   "outputs": [
    {
     "name": "stdout",
     "output_type": "stream",
     "text": [
      "\u001b[34mThe number of missing values in train set is : \u001b[32m0\n",
      "\u001b[34mThe number of missing values in test set is : \u001b[32m0\n"
     ]
    }
   ],
   "source": [
    "train_na=train_df.isna().sum().sum()\n",
    "test_na=test_df.isna().sum().sum()\n",
    "print(Fore.BLUE +f\"The number of missing values in train set is :\", Fore.GREEN+f\"{train_na}\")\n",
    "print(Fore.BLUE +f\"The number of missing values in test set is :\", Fore.GREEN+f\"{test_na}\")"
   ]
  },
  {
   "cell_type": "markdown",
   "id": "f697d581",
   "metadata": {
    "papermill": {
     "duration": 0.011176,
     "end_time": "2022-08-01T10:08:23.264179",
     "exception": false,
     "start_time": "2022-08-01T10:08:23.253003",
     "status": "completed"
    },
    "tags": []
   },
   "source": [
    "<h2 style=\"padding: 8px;color:green;border-bottom: 3px solid green\"><b>4 | Visualization of the target variable 👁‍🗨👀</b></h2>"
   ]
  },
  {
   "cell_type": "code",
   "execution_count": 6,
   "id": "4f6d0d87",
   "metadata": {
    "execution": {
     "iopub.execute_input": "2022-08-01T10:08:23.290021Z",
     "iopub.status.busy": "2022-08-01T10:08:23.289246Z",
     "iopub.status.idle": "2022-08-01T10:08:23.405547Z",
     "shell.execute_reply": "2022-08-01T10:08:23.404579Z"
    },
    "papermill": {
     "duration": 0.131933,
     "end_time": "2022-08-01T10:08:23.408183",
     "exception": false,
     "start_time": "2022-08-01T10:08:23.276250",
     "status": "completed"
    },
    "tags": []
   },
   "outputs": [],
   "source": [
    "X = train_df.drop(\"label\", axis=1)\n",
    "Y=train_df[\"label\"]"
   ]
  },
  {
   "cell_type": "code",
   "execution_count": 7,
   "id": "d1d6e760",
   "metadata": {
    "execution": {
     "iopub.execute_input": "2022-08-01T10:08:23.433691Z",
     "iopub.status.busy": "2022-08-01T10:08:23.432983Z",
     "iopub.status.idle": "2022-08-01T10:08:23.442662Z",
     "shell.execute_reply": "2022-08-01T10:08:23.441855Z"
    },
    "papermill": {
     "duration": 0.025023,
     "end_time": "2022-08-01T10:08:23.444820",
     "exception": false,
     "start_time": "2022-08-01T10:08:23.419797",
     "status": "completed"
    },
    "tags": []
   },
   "outputs": [
    {
     "data": {
      "text/plain": [
       "1    4684\n",
       "7    4401\n",
       "3    4351\n",
       "9    4188\n",
       "2    4177\n",
       "6    4137\n",
       "0    4132\n",
       "4    4072\n",
       "8    4063\n",
       "5    3795\n",
       "Name: label, dtype: int64"
      ]
     },
     "execution_count": 7,
     "metadata": {},
     "output_type": "execute_result"
    }
   ],
   "source": [
    "Y.value_counts()"
   ]
  },
  {
   "cell_type": "code",
   "execution_count": 8,
   "id": "813cf8a7",
   "metadata": {
    "execution": {
     "iopub.execute_input": "2022-08-01T10:08:23.470178Z",
     "iopub.status.busy": "2022-08-01T10:08:23.469509Z",
     "iopub.status.idle": "2022-08-01T10:08:23.733656Z",
     "shell.execute_reply": "2022-08-01T10:08:23.732811Z"
    },
    "papermill": {
     "duration": 0.279514,
     "end_time": "2022-08-01T10:08:23.735921",
     "exception": false,
     "start_time": "2022-08-01T10:08:23.456407",
     "status": "completed"
    },
    "tags": []
   },
   "outputs": [
    {
     "data": {
      "image/png": "[encoded data removed]",
      "text/plain": [
       "<Figure size 864x360 with 1 Axes>"
      ]
     },
     "metadata": {
      "needs_background": "light"
     },
     "output_type": "display_data"
    }
   ],
   "source": [
    "result=Y.value_counts().sort_values(ascending=False)\n",
    "result.plot.barh(color=sns.color_palette(\"Spectral\", 9),width = 0.6, figsize=(12,5))\n",
    "plt.title(\"Number of items in each category\")\n",
    "plt.ylabel('Number of items')\n",
    "plt.show()"
   ]
  },
  {
   "cell_type": "markdown",
   "id": "4478b8b9",
   "metadata": {
    "papermill": {
     "duration": 0.011993,
     "end_time": "2022-08-01T10:08:23.760242",
     "exception": false,
     "start_time": "2022-08-01T10:08:23.748249",
     "status": "completed"
    },
    "tags": []
   },
   "source": [
    "<h2 style=\"padding: 8px;color:green;border-bottom: 3px solid green\"><b>5 | Visualization of the features variables 📈📊</b></h2>"
   ]
  },
  {
   "cell_type": "code",
   "execution_count": 9,
   "id": "19bee4bd",
   "metadata": {
    "execution": {
     "iopub.execute_input": "2022-08-01T10:08:23.787566Z",
     "iopub.status.busy": "2022-08-01T10:08:23.786849Z",
     "iopub.status.idle": "2022-08-01T10:08:23.795676Z",
     "shell.execute_reply": "2022-08-01T10:08:23.794617Z"
    },
    "papermill": {
     "duration": 0.025944,
     "end_time": "2022-08-01T10:08:23.798079",
     "exception": false,
     "start_time": "2022-08-01T10:08:23.772135",
     "status": "completed"
    },
    "tags": []
   },
   "outputs": [
    {
     "data": {
      "text/plain": [
       "((42000, 28, 28, 1), (42000, 28, 28, 1))"
      ]
     },
     "execution_count": 9,
     "metadata": {},
     "output_type": "execute_result"
    }
   ],
   "source": [
    "X = X.values.reshape(-1,28,28,1)\n",
    "X_test = test_df.values.reshape(-1,28,28,1)\n",
    "X.shape, X.shape"
   ]
  },
  {
   "cell_type": "code",
   "execution_count": 10,
   "id": "68e7aea7",
   "metadata": {
    "execution": {
     "iopub.execute_input": "2022-08-01T10:08:23.824794Z",
     "iopub.status.busy": "2022-08-01T10:08:23.823991Z",
     "iopub.status.idle": "2022-08-01T10:08:24.882405Z",
     "shell.execute_reply": "2022-08-01T10:08:24.881080Z"
    },
    "papermill": {
     "duration": 1.076609,
     "end_time": "2022-08-01T10:08:24.886855",
     "exception": false,
     "start_time": "2022-08-01T10:08:23.810246",
     "status": "completed"
    },
    "tags": []
   },
   "outputs": [
    {
     "data": {
      "text/plain": [
       "<matplotlib.image.AxesImage at 0x7fafd943ca50>"
      ]
     },
     "execution_count": 10,
     "metadata": {},
     "output_type": "execute_result"
    },
    {
     "data": {
      "image/png": "[encoded data removed]",
      "text/plain": [
       "<Figure size 936x576 with 9 Axes>"
      ]
     },
     "metadata": {
      "needs_background": "light"
     },
     "output_type": "display_data"
    }
   ],
   "source": [
    "fig, ax = plt.subplots(3, 3, figsize=(13, 8))\n",
    "ax[0,0].imshow(X[0], cmap = 'Greens', interpolation='bicubic')\n",
    "ax[0,1].imshow(X[50], cmap = 'viridis', interpolation='bicubic')\n",
    "ax[0,2].imshow(X[100], cmap = 'viridis', interpolation='bicubic')\n",
    "ax[1,0].imshow(X[150], cmap = 'viridis', interpolation='bicubic')\n",
    "ax[1,1].imshow(X[200], cmap = 'Greens', interpolation='bicubic')\n",
    "ax[1,2].imshow(X[250], cmap = 'viridis', interpolation='bicubic')\n",
    "ax[2,0].imshow(X[300], cmap = 'viridis', interpolation='bicubic')\n",
    "ax[2,1].imshow(X[350], cmap = 'viridis', interpolation='bicubic')\n",
    "ax[2,2].imshow(X[400], cmap = 'Greens', interpolation='bicubic')"
   ]
  },
  {
   "cell_type": "markdown",
   "id": "b87e4e22",
   "metadata": {
    "papermill": {
     "duration": 0.014491,
     "end_time": "2022-08-01T10:08:24.920297",
     "exception": false,
     "start_time": "2022-08-01T10:08:24.905806",
     "status": "completed"
    },
    "tags": []
   },
   "source": [
    "<h2 style=\"padding: 8px;color:green;border-bottom: 3px solid green\"><b>6 | Data preprocessing ♻</b></h2>"
   ]
  },
  {
   "cell_type": "code",
   "execution_count": 11,
   "id": "9db64fb3",
   "metadata": {
    "execution": {
     "iopub.execute_input": "2022-08-01T10:08:24.951584Z",
     "iopub.status.busy": "2022-08-01T10:08:24.951168Z",
     "iopub.status.idle": "2022-08-01T10:08:25.156028Z",
     "shell.execute_reply": "2022-08-01T10:08:25.154785Z"
    },
    "papermill": {
     "duration": 0.224083,
     "end_time": "2022-08-01T10:08:25.159134",
     "exception": false,
     "start_time": "2022-08-01T10:08:24.935051",
     "status": "completed"
    },
    "tags": []
   },
   "outputs": [],
   "source": [
    "# Data normalization\n",
    "X = X/255\n",
    "X_test = X_test/255"
   ]
  },
  {
   "cell_type": "code",
   "execution_count": 12,
   "id": "1cf0ce76",
   "metadata": {
    "execution": {
     "iopub.execute_input": "2022-08-01T10:08:25.190479Z",
     "iopub.status.busy": "2022-08-01T10:08:25.189423Z",
     "iopub.status.idle": "2022-08-01T10:08:25.195032Z",
     "shell.execute_reply": "2022-08-01T10:08:25.194261Z"
    },
    "papermill": {
     "duration": 0.023656,
     "end_time": "2022-08-01T10:08:25.197361",
     "exception": false,
     "start_time": "2022-08-01T10:08:25.173705",
     "status": "completed"
    },
    "tags": []
   },
   "outputs": [],
   "source": [
    "# one-hot encode target column\n",
    "Y = to_categorical(Y, num_classes = 10)"
   ]
  },
  {
   "cell_type": "code",
   "execution_count": 13,
   "id": "6cc392b4",
   "metadata": {
    "execution": {
     "iopub.execute_input": "2022-08-01T10:08:25.228992Z",
     "iopub.status.busy": "2022-08-01T10:08:25.228082Z",
     "iopub.status.idle": "2022-08-01T10:08:25.839169Z",
     "shell.execute_reply": "2022-08-01T10:08:25.837994Z"
    },
    "papermill": {
     "duration": 0.630164,
     "end_time": "2022-08-01T10:08:25.842350",
     "exception": false,
     "start_time": "2022-08-01T10:08:25.212186",
     "status": "completed"
    },
    "tags": []
   },
   "outputs": [],
   "source": [
    "# Spliting Data in training and testing set\n",
    "from sklearn.model_selection import train_test_split\n",
    "X_train, X_val, Y_train, Y_val = train_test_split(X, Y, test_size = 0.3, random_state=42)"
   ]
  },
  {
   "cell_type": "markdown",
   "id": "0a3cb298",
   "metadata": {
    "papermill": {
     "duration": 0.017983,
     "end_time": "2022-08-01T10:08:25.877675",
     "exception": false,
     "start_time": "2022-08-01T10:08:25.859692",
     "status": "completed"
    },
    "tags": []
   },
   "source": [
    "<h2 style=\"padding: 8px;color:green;border-bottom: 3px solid green\"><b>7 | Building a CNN model ⚔</b></h2>"
   ]
  },
  {
   "cell_type": "code",
   "execution_count": 14,
   "id": "5594fb09",
   "metadata": {
    "execution": {
     "iopub.execute_input": "2022-08-01T10:08:25.911741Z",
     "iopub.status.busy": "2022-08-01T10:08:25.911314Z",
     "iopub.status.idle": "2022-08-01T10:08:26.101230Z",
     "shell.execute_reply": "2022-08-01T10:08:26.100266Z"
    },
    "papermill": {
     "duration": 0.212426,
     "end_time": "2022-08-01T10:08:26.105351",
     "exception": false,
     "start_time": "2022-08-01T10:08:25.892925",
     "status": "completed"
    },
    "tags": []
   },
   "outputs": [
    {
     "name": "stderr",
     "output_type": "stream",
     "text": [
      "2022-08-01 10:08:25.970130: I tensorflow/core/common_runtime/process_util.cc:146] Creating new thread pool with default inter op setting: 2. Tune using inter_op_parallelism_threads for best performance.\n"
     ]
    }
   ],
   "source": [
    "#create model\n",
    "model = models.Sequential()\n",
    "# Add layers\n",
    "model.add(layers.Conv2D(32, (3, 3), activation='relu', input_shape=(28, 28, 1)))\n",
    "model.add(layers.MaxPooling2D((2, 2)))\n",
    "model.add(layers.Conv2D(64, (3, 3), activation='relu'))\n",
    "model.add(layers.MaxPooling2D((2, 2)))\n",
    "model.add(layers.Conv2D(64, (3, 3), activation='relu'))\n",
    "model.add(layers.MaxPooling2D((2, 2)))"
   ]
  },
  {
   "cell_type": "code",
   "execution_count": 15,
   "id": "70e168ca",
   "metadata": {
    "execution": {
     "iopub.execute_input": "2022-08-01T10:08:26.142023Z",
     "iopub.status.busy": "2022-08-01T10:08:26.141599Z",
     "iopub.status.idle": "2022-08-01T10:08:26.148835Z",
     "shell.execute_reply": "2022-08-01T10:08:26.147762Z"
    },
    "papermill": {
     "duration": 0.03206,
     "end_time": "2022-08-01T10:08:26.154776",
     "exception": false,
     "start_time": "2022-08-01T10:08:26.122716",
     "status": "completed"
    },
    "tags": []
   },
   "outputs": [
    {
     "name": "stdout",
     "output_type": "stream",
     "text": [
      "Model: \"sequential\"\n",
      "_________________________________________________________________\n",
      "Layer (type)                 Output Shape              Param #   \n",
      "=================================================================\n",
      "conv2d (Conv2D)              (None, 26, 26, 32)        320       \n",
      "_________________________________________________________________\n",
      "max_pooling2d (MaxPooling2D) (None, 13, 13, 32)        0         \n",
      "_________________________________________________________________\n",
      "conv2d_1 (Conv2D)            (None, 11, 11, 64)        18496     \n",
      "_________________________________________________________________\n",
      "max_pooling2d_1 (MaxPooling2 (None, 5, 5, 64)          0         \n",
      "_________________________________________________________________\n",
      "conv2d_2 (Conv2D)            (None, 3, 3, 64)          36928     \n",
      "_________________________________________________________________\n",
      "max_pooling2d_2 (MaxPooling2 (None, 1, 1, 64)          0         \n",
      "=================================================================\n",
      "Total params: 55,744\n",
      "Trainable params: 55,744\n",
      "Non-trainable params: 0\n",
      "_________________________________________________________________\n"
     ]
    }
   ],
   "source": [
    "model.summary()"
   ]
  },
  {
   "cell_type": "code",
   "execution_count": 16,
   "id": "13174fca",
   "metadata": {
    "execution": {
     "iopub.execute_input": "2022-08-01T10:08:26.192334Z",
     "iopub.status.busy": "2022-08-01T10:08:26.191507Z",
     "iopub.status.idle": "2022-08-01T10:08:26.226256Z",
     "shell.execute_reply": "2022-08-01T10:08:26.225206Z"
    },
    "papermill": {
     "duration": 0.056289,
     "end_time": "2022-08-01T10:08:26.229485",
     "exception": false,
     "start_time": "2022-08-01T10:08:26.173196",
     "status": "completed"
    },
    "tags": []
   },
   "outputs": [],
   "source": [
    "model.add(layers.Flatten())\n",
    "model.add(layers.Dense(128, activation='relu'))\n",
    "model.add(layers.Dense(10, activation='softmax'))"
   ]
  },
  {
   "cell_type": "code",
   "execution_count": 17,
   "id": "63adf248",
   "metadata": {
    "execution": {
     "iopub.execute_input": "2022-08-01T10:08:26.266564Z",
     "iopub.status.busy": "2022-08-01T10:08:26.266082Z",
     "iopub.status.idle": "2022-08-01T10:08:26.274844Z",
     "shell.execute_reply": "2022-08-01T10:08:26.273604Z"
    },
    "papermill": {
     "duration": 0.030865,
     "end_time": "2022-08-01T10:08:26.278905",
     "exception": false,
     "start_time": "2022-08-01T10:08:26.248040",
     "status": "completed"
    },
    "tags": []
   },
   "outputs": [
    {
     "name": "stdout",
     "output_type": "stream",
     "text": [
      "Model: \"sequential\"\n",
      "_________________________________________________________________\n",
      "Layer (type)                 Output Shape              Param #   \n",
      "=================================================================\n",
      "conv2d (Conv2D)              (None, 26, 26, 32)        320       \n",
      "_________________________________________________________________\n",
      "max_pooling2d (MaxPooling2D) (None, 13, 13, 32)        0         \n",
      "_________________________________________________________________\n",
      "conv2d_1 (Conv2D)            (None, 11, 11, 64)        18496     \n",
      "_________________________________________________________________\n",
      "max_pooling2d_1 (MaxPooling2 (None, 5, 5, 64)          0         \n",
      "_________________________________________________________________\n",
      "conv2d_2 (Conv2D)            (None, 3, 3, 64)          36928     \n",
      "_________________________________________________________________\n",
      "max_pooling2d_2 (MaxPooling2 (None, 1, 1, 64)          0         \n",
      "_________________________________________________________________\n",
      "flatten (Flatten)            (None, 64)                0         \n",
      "_________________________________________________________________\n",
      "dense (Dense)                (None, 128)               8320      \n",
      "_________________________________________________________________\n",
      "dense_1 (Dense)              (None, 10)                1290      \n",
      "=================================================================\n",
      "Total params: 65,354\n",
      "Trainable params: 65,354\n",
      "Non-trainable params: 0\n",
      "_________________________________________________________________\n"
     ]
    }
   ],
   "source": [
    "model.summary()"
   ]
  },
  {
   "cell_type": "code",
   "execution_count": 18,
   "id": "ec5de0a0",
   "metadata": {
    "execution": {
     "iopub.execute_input": "2022-08-01T10:08:26.317607Z",
     "iopub.status.busy": "2022-08-01T10:08:26.317190Z",
     "iopub.status.idle": "2022-08-01T10:08:27.634410Z",
     "shell.execute_reply": "2022-08-01T10:08:27.632852Z"
    },
    "papermill": {
     "duration": 1.33852,
     "end_time": "2022-08-01T10:08:27.637446",
     "exception": false,
     "start_time": "2022-08-01T10:08:26.298926",
     "status": "completed"
    },
    "tags": []
   },
   "outputs": [
    {
     "data": {
      "image/png": "[encoded data removed]",
      "text/plain": [
       "<IPython.core.display.Image object>"
      ]
     },
     "execution_count": 18,
     "metadata": {},
     "output_type": "execute_result"
    }
   ],
   "source": [
    "# Visualization of the model\n",
    "tf.keras.utils.plot_model(model)"
   ]
  },
  {
   "cell_type": "code",
   "execution_count": 19,
   "id": "888120fd",
   "metadata": {
    "execution": {
     "iopub.execute_input": "2022-08-01T10:08:27.674454Z",
     "iopub.status.busy": "2022-08-01T10:08:27.673614Z",
     "iopub.status.idle": "2022-08-01T10:10:45.611839Z",
     "shell.execute_reply": "2022-08-01T10:10:45.610571Z"
    },
    "papermill": {
     "duration": 137.959502,
     "end_time": "2022-08-01T10:10:45.614996",
     "exception": false,
     "start_time": "2022-08-01T10:08:27.655494",
     "status": "completed"
    },
    "tags": []
   },
   "outputs": [
    {
     "name": "stderr",
     "output_type": "stream",
     "text": [
      "2022-08-01 10:08:28.157514: I tensorflow/compiler/mlir/mlir_graph_optimization_pass.cc:185] None of the MLIR Optimization Passes are enabled (registered 2)\n"
     ]
    },
    {
     "name": "stdout",
     "output_type": "stream",
     "text": [
      "Epoch 1/10\n",
      "919/919 [==============================] - 18s 18ms/step - loss: 0.3194 - accuracy: 0.8999 - val_loss: 0.1333 - val_accuracy: 0.9569\n",
      "Epoch 2/10\n",
      "919/919 [==============================] - 13s 15ms/step - loss: 0.1020 - accuracy: 0.9683 - val_loss: 0.1017 - val_accuracy: 0.9669\n",
      "Epoch 3/10\n",
      "919/919 [==============================] - 13s 14ms/step - loss: 0.0721 - accuracy: 0.9778 - val_loss: 0.1010 - val_accuracy: 0.9680\n",
      "Epoch 4/10\n",
      "919/919 [==============================] - 14s 15ms/step - loss: 0.0567 - accuracy: 0.9815 - val_loss: 0.0600 - val_accuracy: 0.9813\n",
      "Epoch 5/10\n",
      "919/919 [==============================] - 13s 14ms/step - loss: 0.0454 - accuracy: 0.9859 - val_loss: 0.0707 - val_accuracy: 0.9790\n",
      "Epoch 6/10\n",
      "919/919 [==============================] - 13s 14ms/step - loss: 0.0382 - accuracy: 0.9876 - val_loss: 0.0581 - val_accuracy: 0.9825\n",
      "Epoch 7/10\n",
      "919/919 [==============================] - 13s 14ms/step - loss: 0.0297 - accuracy: 0.9903 - val_loss: 0.0651 - val_accuracy: 0.9822\n",
      "Epoch 8/10\n",
      "919/919 [==============================] - 14s 15ms/step - loss: 0.0276 - accuracy: 0.9909 - val_loss: 0.0548 - val_accuracy: 0.9834\n",
      "Epoch 9/10\n",
      "919/919 [==============================] - 13s 14ms/step - loss: 0.0235 - accuracy: 0.9918 - val_loss: 0.0578 - val_accuracy: 0.9833\n",
      "Epoch 10/10\n",
      "919/919 [==============================] - 14s 15ms/step - loss: 0.0185 - accuracy: 0.9942 - val_loss: 0.0525 - val_accuracy: 0.9848\n"
     ]
    }
   ],
   "source": [
    "# Compile the model\n",
    "model.compile(optimizer='adam',\n",
    "              loss='categorical_crossentropy',\n",
    "              metrics=['accuracy'])\n",
    "history = model.fit(X_train, Y_train, epochs=10, \n",
    "                    validation_data=(X_val, Y_val))"
   ]
  },
  {
   "cell_type": "markdown",
   "id": "c1fd2a3a",
   "metadata": {
    "papermill": {
     "duration": 0.20265,
     "end_time": "2022-08-01T10:10:46.020669",
     "exception": false,
     "start_time": "2022-08-01T10:10:45.818019",
     "status": "completed"
    },
    "tags": []
   },
   "source": [
    "<h2 style=\"padding: 8px;color:green;border-bottom: 3px solid green\"><b>8 | Model evaluation & accuracy</b></h2>"
   ]
  },
  {
   "cell_type": "code",
   "execution_count": 20,
   "id": "1bf8da82",
   "metadata": {
    "execution": {
     "iopub.execute_input": "2022-08-01T10:10:46.425411Z",
     "iopub.status.busy": "2022-08-01T10:10:46.424659Z",
     "iopub.status.idle": "2022-08-01T10:10:46.637195Z",
     "shell.execute_reply": "2022-08-01T10:10:46.636044Z"
    },
    "papermill": {
     "duration": 0.416849,
     "end_time": "2022-08-01T10:10:46.639755",
     "exception": false,
     "start_time": "2022-08-01T10:10:46.222906",
     "status": "completed"
    },
    "tags": []
   },
   "outputs": [
    {
     "data": {
      "text/plain": [
       "<matplotlib.legend.Legend at 0x7fafa814afd0>"
      ]
     },
     "execution_count": 20,
     "metadata": {},
     "output_type": "execute_result"
    },
    {
     "data": {
      "image/png": "[encoded data removed]",
      "text/plain": [
       "<Figure size 432x288 with 1 Axes>"
      ]
     },
     "metadata": {
      "needs_background": "light"
     },
     "output_type": "display_data"
    }
   ],
   "source": [
    "plt.plot(history.history['accuracy'], label='accuracy')\n",
    "plt.plot(history.history['val_accuracy'], label = 'val_accuracy')\n",
    "plt.xlabel('Epoch')\n",
    "plt.ylabel('Accuracy')\n",
    "plt.legend(loc='lower right')"
   ]
  },
  {
   "cell_type": "code",
   "execution_count": 21,
   "id": "c417d01e",
   "metadata": {
    "execution": {
     "iopub.execute_input": "2022-08-01T10:10:47.055324Z",
     "iopub.status.busy": "2022-08-01T10:10:47.054589Z",
     "iopub.status.idle": "2022-08-01T10:10:47.259458Z",
     "shell.execute_reply": "2022-08-01T10:10:47.258605Z"
    },
    "papermill": {
     "duration": 0.411788,
     "end_time": "2022-08-01T10:10:47.261834",
     "exception": false,
     "start_time": "2022-08-01T10:10:46.850046",
     "status": "completed"
    },
    "tags": []
   },
   "outputs": [
    {
     "data": {
      "text/plain": [
       "<matplotlib.legend.Legend at 0x7fafd907e5d0>"
      ]
     },
     "execution_count": 21,
     "metadata": {},
     "output_type": "execute_result"
    },
    {
     "data": {
      "image/png": "[encoded data removed]",
      "text/plain": [
       "<Figure size 432x288 with 1 Axes>"
      ]
     },
     "metadata": {
      "needs_background": "light"
     },
     "output_type": "display_data"
    }
   ],
   "source": [
    "plt.plot(history.history['loss'], label='loss')\n",
    "plt.plot(history.history['val_loss'], label = 'val_loss')\n",
    "plt.xlabel('Epoch')\n",
    "plt.ylabel('Accuracy')\n",
    "plt.legend(loc='lower right')"
   ]
  },
  {
   "cell_type": "code",
   "execution_count": 22,
   "id": "cbeb5f5d",
   "metadata": {
    "execution": {
     "iopub.execute_input": "2022-08-01T10:10:47.671760Z",
     "iopub.status.busy": "2022-08-01T10:10:47.671004Z",
     "iopub.status.idle": "2022-08-01T10:10:52.419439Z",
     "shell.execute_reply": "2022-08-01T10:10:52.417877Z"
    },
    "papermill": {
     "duration": 4.956848,
     "end_time": "2022-08-01T10:10:52.422102",
     "exception": false,
     "start_time": "2022-08-01T10:10:47.465254",
     "status": "completed"
    },
    "tags": []
   },
   "outputs": [
    {
     "name": "stdout",
     "output_type": "stream",
     "text": [
      "919/919 [==============================] - 4s 5ms/step - loss: 0.0087 - accuracy: 0.9973\n",
      "Train loss:  0.00866283942013979\n",
      "Train accuracy:  0.9973129034042358\n"
     ]
    }
   ],
   "source": [
    "train_loss, train_accuracy = model.evaluate(X_train, Y_train)\n",
    "print('Train loss: ', train_loss)\n",
    "print('Train accuracy: ', train_accuracy)"
   ]
  },
  {
   "cell_type": "code",
   "execution_count": 23,
   "id": "3a7eef8c",
   "metadata": {
    "execution": {
     "iopub.execute_input": "2022-08-01T10:10:52.843921Z",
     "iopub.status.busy": "2022-08-01T10:10:52.843450Z",
     "iopub.status.idle": "2022-08-01T10:10:54.622019Z",
     "shell.execute_reply": "2022-08-01T10:10:54.620591Z"
    },
    "papermill": {
     "duration": 1.992537,
     "end_time": "2022-08-01T10:10:54.624593",
     "exception": false,
     "start_time": "2022-08-01T10:10:52.632056",
     "status": "completed"
    },
    "tags": []
   },
   "outputs": [
    {
     "name": "stdout",
     "output_type": "stream",
     "text": [
      "394/394 [==============================] - 2s 4ms/step - loss: 0.0525 - accuracy: 0.9848\n",
      "Validation loss:  0.05253416672348976\n",
      "Validation accuracy:  0.9847618937492371\n"
     ]
    }
   ],
   "source": [
    "validation_loss, validation_accuracy = model.evaluate(X_val, Y_val)\n",
    "print('Validation loss: ', validation_loss)\n",
    "print('Validation accuracy: ', validation_accuracy)"
   ]
  },
  {
   "cell_type": "markdown",
   "id": "3fa4f253",
   "metadata": {
    "papermill": {
     "duration": 0.213176,
     "end_time": "2022-08-01T10:10:55.050757",
     "exception": false,
     "start_time": "2022-08-01T10:10:54.837581",
     "status": "completed"
    },
    "tags": []
   },
   "source": [
    "<h2 style=\"padding: 8px;color:green;border-bottom: 3px solid green\"><b>9 | Prediction & submission</b></h2>"
   ]
  },
  {
   "cell_type": "code",
   "execution_count": 24,
   "id": "1811d5b0",
   "metadata": {
    "execution": {
     "iopub.execute_input": "2022-08-01T10:10:55.579570Z",
     "iopub.status.busy": "2022-08-01T10:10:55.579145Z",
     "iopub.status.idle": "2022-08-01T10:10:59.132025Z",
     "shell.execute_reply": "2022-08-01T10:10:59.130962Z"
    },
    "papermill": {
     "duration": 3.770727,
     "end_time": "2022-08-01T10:10:59.134754",
     "exception": false,
     "start_time": "2022-08-01T10:10:55.364027",
     "status": "completed"
    },
    "tags": []
   },
   "outputs": [],
   "source": [
    "# predict results\n",
    "results = model.predict(X_test)\n",
    "\n",
    "# select the indix with the maximum probability\n",
    "results = np.argmax(results,axis = 1)\n",
    "results = pd.Series(results,name=\"Label\")"
   ]
  },
  {
   "cell_type": "code",
   "execution_count": 25,
   "id": "6fc9f219",
   "metadata": {
    "execution": {
     "iopub.execute_input": "2022-08-01T10:10:59.566358Z",
     "iopub.status.busy": "2022-08-01T10:10:59.565570Z",
     "iopub.status.idle": "2022-08-01T10:10:59.627451Z",
     "shell.execute_reply": "2022-08-01T10:10:59.626435Z"
    },
    "papermill": {
     "duration": 0.279843,
     "end_time": "2022-08-01T10:10:59.630260",
     "exception": false,
     "start_time": "2022-08-01T10:10:59.350417",
     "status": "completed"
    },
    "tags": []
   },
   "outputs": [],
   "source": [
    "submission = pd.concat([pd.Series(range(1,28001),name = \"ImageId\"),results],axis = 1)\n",
    "\n",
    "submission.to_csv(\"submission.csv\",index=False)"
   ]
  }
 ],
 "metadata": {
  "kernelspec": {
   "display_name": "Python 3",
   "language": "python",
   "name": "python3"
  },
  "language_info": {
   "codemirror_mode": {
    "name": "ipython",
    "version": 3
   },
   "file_extension": ".py",
   "mimetype": "text/x-python",
   "name": "python",
   "nbconvert_exporter": "python",
   "pygments_lexer": "ipython3",
   "version": "3.7.12"
  },
  "papermill": {
   "default_parameters": {},
   "duration": 188.883096,
   "end_time": "2022-08-01T10:11:03.119664",
   "environment_variables": {},
   "exception": null,
   "input_path": "__notebook__.ipynb",
   "output_path": "__notebook__.ipynb",
   "parameters": {},
   "start_time": "2022-08-01T10:07:54.236568",
   "version": "2.3.4"
  }
 },
 "nbformat": 4,
 "nbformat_minor": 5
}
